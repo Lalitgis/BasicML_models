{
 "cells": [
  {
   "cell_type": "markdown",
   "id": "c7de91ed",
   "metadata": {},
   "source": [
    "## Multiple Linear Regression Model"
   ]
  },
  {
   "cell_type": "markdown",
   "id": "5b91d98b",
   "metadata": {},
   "source": [
    "A. It estimates the relationship between two or more independent variables\n",
    "with one of our dependet or target variabels.\n",
    "B. We denote the dependent variable with Y and independent variabels \n",
    "with x1,x2,x3-------- and so on.\n",
    "\n",
    "Equation : Y = (m1x1+m2x2+m3x3+...)+c\n",
    "\n"
   ]
  },
  {
   "cell_type": "markdown",
   "id": "eda6a87d",
   "metadata": {},
   "source": [
    "### Load the required packages"
   ]
  },
  {
   "cell_type": "code",
   "execution_count": 3,
   "id": "dc7067cc",
   "metadata": {},
   "outputs": [],
   "source": [
    "import pandas as pd"
   ]
  },
  {
   "cell_type": "code",
   "execution_count": 4,
   "id": "92dbadb4",
   "metadata": {},
   "outputs": [],
   "source": [
    "# Import the dataset\n",
    "data = pd.read_csv(\"Multiple Linear Regression Dataset.csv\")"
   ]
  },
  {
   "cell_type": "code",
   "execution_count": 6,
   "id": "10d925c2",
   "metadata": {
    "scrolled": true
   },
   "outputs": [
    {
     "data": {
      "text/html": [
       "<div>\n",
       "<style scoped>\n",
       "    .dataframe tbody tr th:only-of-type {\n",
       "        vertical-align: middle;\n",
       "    }\n",
       "\n",
       "    .dataframe tbody tr th {\n",
       "        vertical-align: top;\n",
       "    }\n",
       "\n",
       "    .dataframe thead th {\n",
       "        text-align: right;\n",
       "    }\n",
       "</style>\n",
       "<table border=\"1\" class=\"dataframe\">\n",
       "  <thead>\n",
       "    <tr style=\"text-align: right;\">\n",
       "      <th></th>\n",
       "      <th>Transportation</th>\n",
       "      <th>Stationary</th>\n",
       "      <th>Packaging</th>\n",
       "      <th>Revenue</th>\n",
       "    </tr>\n",
       "  </thead>\n",
       "  <tbody>\n",
       "    <tr>\n",
       "      <th>0</th>\n",
       "      <td>1000</td>\n",
       "      <td>1200</td>\n",
       "      <td>150</td>\n",
       "      <td>1203</td>\n",
       "    </tr>\n",
       "    <tr>\n",
       "      <th>1</th>\n",
       "      <td>1200</td>\n",
       "      <td>1150</td>\n",
       "      <td>300</td>\n",
       "      <td>1603</td>\n",
       "    </tr>\n",
       "    <tr>\n",
       "      <th>2</th>\n",
       "      <td>1400</td>\n",
       "      <td>1000</td>\n",
       "      <td>450</td>\n",
       "      <td>2003</td>\n",
       "    </tr>\n",
       "    <tr>\n",
       "      <th>3</th>\n",
       "      <td>1000</td>\n",
       "      <td>1050</td>\n",
       "      <td>600</td>\n",
       "      <td>2403</td>\n",
       "    </tr>\n",
       "    <tr>\n",
       "      <th>4</th>\n",
       "      <td>1800</td>\n",
       "      <td>1000</td>\n",
       "      <td>1000</td>\n",
       "      <td>2803</td>\n",
       "    </tr>\n",
       "  </tbody>\n",
       "</table>\n",
       "</div>"
      ],
      "text/plain": [
       "   Transportation  Stationary  Packaging  Revenue\n",
       "0            1000        1200        150     1203\n",
       "1            1200        1150        300     1603\n",
       "2            1400        1000        450     2003\n",
       "3            1000        1050        600     2403\n",
       "4            1800        1000       1000     2803"
      ]
     },
     "execution_count": 6,
     "metadata": {},
     "output_type": "execute_result"
    }
   ],
   "source": [
    "data.head()\n",
    "# here Revenue is the Y and all other are x variables "
   ]
  },
  {
   "cell_type": "markdown",
   "id": "435c7b8f",
   "metadata": {},
   "source": [
    "### Build the model"
   ]
  },
  {
   "cell_type": "code",
   "execution_count": 11,
   "id": "cb19fb7c",
   "metadata": {},
   "outputs": [
    {
     "data": {
      "text/plain": [
       "LinearRegression()"
      ]
     },
     "execution_count": 11,
     "metadata": {},
     "output_type": "execute_result"
    }
   ],
   "source": [
    "from sklearn.linear_model import LinearRegression #import model\n",
    "model = LinearRegression()\n",
    "# Fitting the x and y in model\n",
    "model.fit(data[['Transportation', 'Stationary', 'Packaging']], data['Revenue'])"
   ]
  },
  {
   "cell_type": "code",
   "execution_count": 12,
   "id": "f8739d5f",
   "metadata": {},
   "outputs": [
    {
     "name": "stderr",
     "output_type": "stream",
     "text": [
      "C:\\Users\\pavilion\\anaconda3\\lib\\site-packages\\sklearn\\base.py:450: UserWarning: X does not have valid feature names, but LinearRegression was fitted with feature names\n",
      "  warnings.warn(\n"
     ]
    },
    {
     "data": {
      "text/plain": [
       "array([6115.563678])"
      ]
     },
     "execution_count": 12,
     "metadata": {},
     "output_type": "execute_result"
    }
   ],
   "source": [
    "# Start making predictions\n",
    "model.predict([[4200,1000,2500]])"
   ]
  },
  {
   "cell_type": "code",
   "execution_count": 16,
   "id": "1dfa5b3d",
   "metadata": {},
   "outputs": [
    {
     "name": "stderr",
     "output_type": "stream",
     "text": [
      "C:\\Users\\pavilion\\anaconda3\\lib\\site-packages\\sklearn\\base.py:450: UserWarning: X does not have valid feature names, but LinearRegression was fitted with feature names\n",
      "  warnings.warn(\n"
     ]
    },
    {
     "data": {
      "text/plain": [
       "array([-255388.10338186])"
      ]
     },
     "execution_count": 16,
     "metadata": {},
     "output_type": "execute_result"
    }
   ],
   "source": [
    "# Second prediction\n",
    "model.predict([[10000,90000,50000]])"
   ]
  },
  {
   "cell_type": "code",
   "execution_count": 17,
   "id": "5a0e985b",
   "metadata": {},
   "outputs": [
    {
     "data": {
      "text/plain": [
       "0.9090591387521104"
      ]
     },
     "execution_count": 17,
     "metadata": {},
     "output_type": "execute_result"
    }
   ],
   "source": [
    "# Check accuracy\n",
    "model.score(data[['Transportation', 'Stationary', 'Packaging']], data['Revenue'])"
   ]
  },
  {
   "cell_type": "code",
   "execution_count": 18,
   "id": "b2ee1c7a",
   "metadata": {},
   "outputs": [
    {
     "data": {
      "text/plain": [
       "array([ 0.3047125 , -3.60438683,  1.21093532])"
      ]
     },
     "execution_count": 18,
     "metadata": {},
     "output_type": "execute_result"
    }
   ],
   "source": [
    "model.coef_"
   ]
  },
  {
   "cell_type": "code",
   "execution_count": 19,
   "id": "aa1500ee",
   "metadata": {},
   "outputs": [
    {
     "data": {
      "text/plain": [
       "5412.81968636477"
      ]
     },
     "execution_count": 19,
     "metadata": {},
     "output_type": "execute_result"
    }
   ],
   "source": [
    "model.intercept_"
   ]
  },
  {
   "cell_type": "code",
   "execution_count": 20,
   "id": "26932480",
   "metadata": {},
   "outputs": [
    {
     "name": "stdout",
     "output_type": "stream",
     "text": [
      "701.8000000000002\n"
     ]
    }
   ],
   "source": [
    "# Making the predction\n",
    "y = 0.304*4200+-3.60*1000+1.21*2500\n",
    "print(y)"
   ]
  }
 ],
 "metadata": {
  "kernelspec": {
   "display_name": "Python 3 (ipykernel)",
   "language": "python",
   "name": "python3"
  },
  "language_info": {
   "codemirror_mode": {
    "name": "ipython",
    "version": 3
   },
   "file_extension": ".py",
   "mimetype": "text/x-python",
   "name": "python",
   "nbconvert_exporter": "python",
   "pygments_lexer": "ipython3",
   "version": "3.9.13"
  }
 },
 "nbformat": 4,
 "nbformat_minor": 5
}
