{
 "cells": [
  {
   "cell_type": "code",
   "execution_count": 1,
   "id": "58168226",
   "metadata": {},
   "outputs": [],
   "source": [
    "# First step is to import the library\n",
    "import pandas as pd\n",
    "import matplotlib.pyplot as plt\n",
    "%matplotlib inline"
   ]
  },
  {
   "cell_type": "code",
   "execution_count": 6,
   "id": "96bcc1c1",
   "metadata": {},
   "outputs": [],
   "source": [
    "# Importing the data, here I'm generating my own dataset\n",
    "data = {'Experience':[1,2,3,4,5,6,7,8,9,10],\n",
    "       'Salary': [10000,15000,19000,25000,31000, 38000,42000,50000,53000,60000]}"
   ]
  },
  {
   "cell_type": "code",
   "execution_count": 8,
   "id": "f2c8456f",
   "metadata": {},
   "outputs": [
    {
     "name": "stdout",
     "output_type": "stream",
     "text": [
      "<class 'pandas.core.frame.DataFrame'>\n"
     ]
    }
   ],
   "source": [
    "# Create data frame\n",
    "data = pd.DataFrame(data)\n",
    "print(type(data))"
   ]
  },
  {
   "cell_type": "code",
   "execution_count": 9,
   "id": "b3f9d2d1",
   "metadata": {},
   "outputs": [
    {
     "name": "stdout",
     "output_type": "stream",
     "text": [
      "   Experience  Salary\n",
      "0           1   10000\n",
      "1           2   15000\n",
      "2           3   19000\n",
      "3           4   25000\n",
      "4           5   31000\n",
      "5           6   38000\n",
      "6           7   42000\n",
      "7           8   50000\n",
      "8           9   53000\n",
      "9          10   60000\n"
     ]
    }
   ],
   "source": [
    "print(data)"
   ]
  },
  {
   "cell_type": "code",
   "execution_count": 10,
   "id": "fa37b495",
   "metadata": {},
   "outputs": [
    {
     "data": {
      "text/plain": [
       "LinearRegression()"
      ]
     },
     "execution_count": 10,
     "metadata": {},
     "output_type": "execute_result"
    }
   ],
   "source": [
    "#  Training the model\n",
    "from sklearn.linear_model import LinearRegression\n",
    "model = LinearRegression() #Creating a linear regression object\n",
    "model.fit(data[['Experience']], data['Salary']) #fit the dataset\n",
    "# Note: X-variable should be kept in the form of [[2D-array]]"
   ]
  },
  {
   "cell_type": "code",
   "execution_count": 11,
   "id": "25d9d15a",
   "metadata": {},
   "outputs": [
    {
     "name": "stderr",
     "output_type": "stream",
     "text": [
      "C:\\Users\\pavilion\\anaconda3\\lib\\site-packages\\sklearn\\base.py:450: UserWarning: X does not have valid feature names, but LinearRegression was fitted with feature names\n",
      "  warnings.warn(\n"
     ]
    },
    {
     "data": {
      "text/plain": [
       "array([31484.84848485])"
      ]
     },
     "execution_count": 11,
     "metadata": {},
     "output_type": "execute_result"
    }
   ],
   "source": [
    "# Start Making the prediction\n",
    "model.predict([[5]]) #x in the form of 2D array\n",
    "# Here the model is nearly correct"
   ]
  },
  {
   "cell_type": "code",
   "execution_count": 12,
   "id": "41ff8bc2",
   "metadata": {},
   "outputs": [
    {
     "name": "stderr",
     "output_type": "stream",
     "text": [
      "C:\\Users\\pavilion\\anaconda3\\lib\\site-packages\\sklearn\\base.py:450: UserWarning: X does not have valid feature names, but LinearRegression was fitted with feature names\n",
      "  warnings.warn(\n"
     ]
    },
    {
     "data": {
      "text/plain": [
       "array([70896.96969697])"
      ]
     },
     "execution_count": 12,
     "metadata": {},
     "output_type": "execute_result"
    }
   ],
   "source": [
    "model.predict([[12]])"
   ]
  },
  {
   "cell_type": "code",
   "execution_count": 13,
   "id": "398e74ec",
   "metadata": {},
   "outputs": [
    {
     "data": {
      "text/plain": [
       "0.9966372308889744"
      ]
     },
     "execution_count": 13,
     "metadata": {},
     "output_type": "execute_result"
    }
   ],
   "source": [
    "# To check the accuracy of model\n",
    "model.score(data[['Experience']], data.Salary)\n",
    "# its 99% accurate"
   ]
  },
  {
   "cell_type": "code",
   "execution_count": 15,
   "id": "c391f68e",
   "metadata": {},
   "outputs": [
    {
     "data": {
      "text/plain": [
       "array([5630.3030303])"
      ]
     },
     "execution_count": 15,
     "metadata": {},
     "output_type": "execute_result"
    }
   ],
   "source": [
    "# To check the coefficient of (m)\n",
    "model.coef_"
   ]
  },
  {
   "cell_type": "code",
   "execution_count": 16,
   "id": "58653cec",
   "metadata": {},
   "outputs": [
    {
     "data": {
      "text/plain": [
       "3333.3333333333285"
      ]
     },
     "execution_count": 16,
     "metadata": {},
     "output_type": "execute_result"
    }
   ],
   "source": [
    "# Checking the intercept (c)\n",
    "model.intercept_"
   ]
  },
  {
   "cell_type": "code",
   "execution_count": 18,
   "id": "9ba3c3c2",
   "metadata": {},
   "outputs": [
    {
     "data": {
      "text/plain": [
       "31484.848484833325"
      ]
     },
     "execution_count": 18,
     "metadata": {},
     "output_type": "execute_result"
    }
   ],
   "source": [
    "# Checking the value of y in model y = mx+c\n",
    "y = 5630.3030303*5+3333.3333333333285\n",
    "y\n",
    "# Here we are cheking for 5 years of exp"
   ]
  },
  {
   "cell_type": "code",
   "execution_count": 21,
   "id": "45c168e0",
   "metadata": {},
   "outputs": [
    {
     "data": {
      "image/png": "[encoded data removed]",
      "text/plain": [
       "<Figure size 640x480 with 1 Axes>"
      ]
     },
     "metadata": {},
     "output_type": "display_data"
    }
   ],
   "source": [
    "# To draw the best fit line\n",
    "plt.scatter(data['Experience'], data.Salary, color ='r', marker='*')\n",
    "plt.plot(data['Experience'], model.predict(data[['Experience']]))\n",
    "plt.xlabel('Years of Experience')\n",
    "plt.ylabel('Salary');\n",
    "# The line is the predicted value line of years of experience and actual salary"
   ]
  },
  {
   "cell_type": "code",
   "execution_count": null,
   "id": "3bb00a26",
   "metadata": {},
   "outputs": [],
   "source": []
  },
  {
   "cell_type": "code",
   "execution_count": null,
   "id": "ca371160",
   "metadata": {},
   "outputs": [],
   "source": []
  }
 ],
 "metadata": {
  "kernelspec": {
   "display_name": "Python 3 (ipykernel)",
   "language": "python",
   "name": "python3"
  },
  "language_info": {
   "codemirror_mode": {
    "name": "ipython",
    "version": 3
   },
   "file_extension": ".py",
   "mimetype": "text/x-python",
   "name": "python",
   "nbconvert_exporter": "python",
   "pygments_lexer": "ipython3",
   "version": "3.9.13"
  }
 },
 "nbformat": 4,
 "nbformat_minor": 5
}
